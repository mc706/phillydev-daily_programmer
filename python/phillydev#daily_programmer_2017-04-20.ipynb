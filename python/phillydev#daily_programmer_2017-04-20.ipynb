{
 "cells": [
  {
   "cell_type": "markdown",
   "metadata": {},
   "source": [
    "# Daily Programmer Challenge\n",
    "\n",
    "Given a string array words, find the maximum value of length(word[i]) * length(word[j]) where the two words do not share common letters. You may assume that each word will contain only lower case letters. If no such two words exist, return 0.\n",
    "\n",
    "Example 1:\n",
    "```\n",
    "Given [\"abcw\", \"baz\", \"foo\", \"bar\", \"xtfn\", \"abcdef\"]\n",
    "Return 16\n",
    "The two words can be \"abcw\", \"xtfn\".\n",
    "```\n",
    "\n",
    "Example 2:\n",
    "```\n",
    "Given [\"a\", \"ab\", \"abc\", \"d\", \"cd\", \"bcd\", \"abcd\"]\n",
    "Return 4\n",
    "The two words can be \"ab\", \"cd\".\n",
    "```\n",
    "\n",
    "Example 3:\n",
    "```\n",
    "Given [\"a\", \"aa\", \"aaa\", \"aaaa\"]\n",
    "Return 0\n",
    "No such pair of words.\n",
    "```"
   ]
  },
  {
   "cell_type": "code",
   "execution_count": 1,
   "metadata": {
    "collapsed": false
   },
   "outputs": [],
   "source": [
    "from itertools import combinations\n",
    "\n",
    "def longest_unique(strings):\n",
    "    \"\"\"\n",
    "    Returns the maxiumum value of `length(word[i]) * length(word[j])` \n",
    "    \n",
    "    >>> longest_unique([\"abcw\", \"baz\", \"foo\", \"bar\", \"xtfn\", \"abcdef\"])\n",
    "    16\n",
    "    >>> longest_unique([\"a\", \"ab\", \"abc\", \"d\", \"cd\", \"bcd\", \"abcd\"])\n",
    "    4\n",
    "    >>> longest_unique([\"a\", \"aa\", \"aaa\", \"aaaa\"])\n",
    "    0\n",
    "    \"\"\"\n",
    "    pairs = [(x,y) for x in strings for y in strings]\n",
    "    filtered_pairs = filter(lambda x: not set(x[0]) & set(x[1]), pairs)\n",
    "    lengths = list(map(lambda y: len(y[0]) * len(y[1]), filtered_pairs))\n",
    "    return max(lengths) if len(lengths) else 0\n",
    "\n",
    "if __name__ == '__main__':\n",
    "    import doctest\n",
    "    doctest.testmod()"
   ]
  },
  {
   "cell_type": "code",
   "execution_count": null,
   "metadata": {
    "collapsed": true
   },
   "outputs": [],
   "source": []
  }
 ],
 "metadata": {
  "kernelspec": {
   "display_name": "Python 3",
   "language": "python",
   "name": "python3"
  },
  "language_info": {
   "codemirror_mode": {
    "name": "ipython",
    "version": 3
   },
   "file_extension": ".py",
   "mimetype": "text/x-python",
   "name": "python",
   "nbconvert_exporter": "python",
   "pygments_lexer": "ipython3",
   "version": "3.6.0"
  }
 },
 "nbformat": 4,
 "nbformat_minor": 2
}
