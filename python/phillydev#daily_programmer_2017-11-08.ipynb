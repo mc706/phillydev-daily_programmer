{
 "cells": [
  {
   "cell_type": "markdown",
   "metadata": {},
   "source": [
    "Write a program that takes input text from standard input and outputs the text -- transposed.\n",
    "Roughly explained, the transpose of a matrix\n",
    "\n",
    "```\n",
    "A B C\n",
    "D E F\n",
    "```\n",
    "\n",
    "\n",
    "is given by\n",
    "\n",
    "```\n",
    "A D\n",
    "B E\n",
    "C F\n",
    "```\n",
    "\n",
    "\n",
    "Rows become columns and columns become rows.\n",
    "\n",
    "```\n",
    "philly\n",
    "dev\n",
    "```\n",
    "\n",
    "\n",
    "becomes:\n",
    "\n",
    "```\n",
    "pd\n",
    "he\n",
    "iv\n",
    "l\n",
    "l\n",
    "y\n",
    "```"
   ]
  },
  {
   "cell_type": "code",
   "execution_count": 1,
   "metadata": {},
   "outputs": [],
   "source": [
    "import itertools\n",
    "def transpose(inputs: str) -> str:\n",
    "    r\"\"\"\n",
    "    tranpose a list of strings\n",
    "    \n",
    "    >>> transpose('ABC\\nDEF')\n",
    "    'AD\\nBE\\nCF'\n",
    "    >>> transpose('philly\\ndev')\n",
    "    'pd\\nhe\\niv\\nl\\nl\\ny'\n",
    "    \"\"\"\n",
    "    return \"\\n\".join(\"\".join(n) for n in itertools.zip_longest(*inputs.split('\\n'), fillvalue=\"\"))\n",
    "    \n",
    "    \n",
    "if __name__ == \"__main__\":\n",
    "    import doctest\n",
    "    doctest.testmod()\n",
    "    "
   ]
  }
 ],
 "metadata": {
  "kernelspec": {
   "display_name": "Python 3",
   "language": "python",
   "name": "python3"
  },
  "language_info": {
   "codemirror_mode": {
    "name": "ipython",
    "version": 3
   },
   "file_extension": ".py",
   "mimetype": "text/x-python",
   "name": "python",
   "nbconvert_exporter": "python",
   "pygments_lexer": "ipython3",
   "version": "3.6.0"
  }
 },
 "nbformat": 4,
 "nbformat_minor": 2
}
