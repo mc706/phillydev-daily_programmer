{
 "cells": [
  {
   "cell_type": "markdown",
   "metadata": {},
   "source": [
    "This is part one of a multi part challenge.\n",
    "\n",
    "Write a program that prints a board (matrix). The board should have column numbers and rows letters. Spaces should be represented by a `u`\n",
    "\n",
    "```\n",
    "printBoard()\n",
    "\n",
    "   1   2   3   4   5   6   7   8   9  10\n",
    "a  u   u   u   u   u   u   u   u   u   u\n",
    "b  u   u   u   u   u   u   u   u   u   u\n",
    "c  u   u   u   u   u   u   u   u   u   u\n",
    "d  u   u   u   u   u   u   u   u   u   u\n",
    "e  u   u   u   u   u   u   u   u   u   u\n",
    "f  u   u   u   u   u   u   u   u   u   u\n",
    "g  u   u   u   u   u   u   u   u   u   u\n",
    "h  u   u   u   u   u   u   u   u   u   u\n",
    "i  u   u   u   u   u   u   u   u   u   u\n",
    "j  u   u   u   u   u   u   u   u   u   u\n",
    "```\n"
   ]
  },
  {
   "cell_type": "code",
   "execution_count": 5,
   "metadata": {
    "collapsed": false
   },
   "outputs": [
    {
     "name": "stdout",
     "output_type": "stream",
     "text": [
      "          1     2     3     4     5     6     7     8     9    10\n",
      "    a     u     u     u     u     u     u     u     u     u     u\n",
      "    b     u     u     u     u     u     u     u     u     u     u\n",
      "    c     u     u     u     u     u     u     u     u     u     u\n",
      "    d     u     u     u     u     u     u     u     u     u     u\n",
      "    e     u     u     u     u     u     u     u     u     u     u\n",
      "    f     u     u     u     u     u     u     u     u     u     u\n",
      "    g     u     u     u     u     u     u     u     u     u     u\n",
      "    h     u     u     u     u     u     u     u     u     u     u\n",
      "    i     u     u     u     u     u     u     u     u     u     u\n",
      "    j     u     u     u     u     u     u     u     u     u     u\n"
     ]
    }
   ],
   "source": [
    "import string\n",
    "from typing import Tuple\n",
    "\n",
    "class Board:\n",
    "    def __init__(self, n:int=10):\n",
    "        self.size = n\n",
    "        self.initial = 'u'\n",
    "        self.board = [[None for _ in range(self.size)] for _ in range(self.size)]\n",
    "    \n",
    "    def _loc_to_index(location: str) -> Tuple:\n",
    "        number, letter = location\n",
    "        return string.ascii_lowercase.index(letter), int(number) - 1\n",
    "    \n",
    "    def _get(self, location:str):\n",
    "        row, column = self._loc_to_index(location)\n",
    "        return self.board[row][column]\n",
    "    \n",
    "    def _set(self, location: str, value):\n",
    "        row, column = self._loc_to_index(location)\n",
    "        self.board[row][column] = value\n",
    "        \n",
    "    def __repr__(self):\n",
    "        display = [[n if n else \" \" for n in range(self.size + 1)]]\n",
    "        for i in range(self.size):\n",
    "            display.append([string.ascii_lowercase[i]] + self.board[i])\n",
    "        return \"\\n\".join(\" \".join(map(lambda x: str(x).rjust(3) if x else self.initial.rjust(3), row)) for row in display)\n",
    "    \n",
    "board = Board()\n",
    "print(board)"
   ]
  },
  {
   "cell_type": "code",
   "execution_count": 8,
   "metadata": {
    "collapsed": false
   },
   "outputs": [
    {
     "data": {
      "text/plain": [
       "'a'"
      ]
     },
     "execution_count": 8,
     "metadata": {},
     "output_type": "execute_result"
    }
   ],
   "source": [
    "a,b = \"ab\"\n",
    "a"
   ]
  },
  {
   "cell_type": "code",
   "execution_count": null,
   "metadata": {
    "collapsed": true
   },
   "outputs": [],
   "source": []
  }
 ],
 "metadata": {
  "kernelspec": {
   "display_name": "Python 3",
   "language": "python",
   "name": "python3"
  },
  "language_info": {
   "codemirror_mode": {
    "name": "ipython",
    "version": 3
   },
   "file_extension": ".py",
   "mimetype": "text/x-python",
   "name": "python",
   "nbconvert_exporter": "python",
   "pygments_lexer": "ipython3",
   "version": "3.6.0"
  }
 },
 "nbformat": 4,
 "nbformat_minor": 2
}
