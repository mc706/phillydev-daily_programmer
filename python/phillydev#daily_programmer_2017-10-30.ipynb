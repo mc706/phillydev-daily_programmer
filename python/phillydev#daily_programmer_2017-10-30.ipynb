{
 "cells": [
  {
   "cell_type": "markdown",
   "metadata": {},
   "source": [
    "The pancake sorting algorithm is uses a single method, which takes an array, and an index, and reverses the order of the elements up until that index\n",
    "\n",
    "Write an implementation of the pancake sorting algorithm (aka the prefix sorting algorithm) that returns the states after each flip.\n",
    "\n",
    "```\n",
    "pancakeSort([2,4,3,1]) =>\n",
    "[4,2,3,1]\n",
    "[3,2,4,1]\n",
    "[2,3,4,1]\n",
    "[4,3,2,1]\n",
    "[1,2,3,4]\n",
    "```"
   ]
  },
  {
   "cell_type": "code",
   "execution_count": 16,
   "metadata": {},
   "outputs": [],
   "source": [
    "def pancakeSort(array: list):\n",
    "    \"\"\"\n",
    "    Sorts an array by flipping elements up to a certain index\n",
    "    \"\"\"\n",
    "    sort_states = [array]\n",
    "\n",
    "    def flip(_array, index):\n",
    "        return list(reversed(_array[:index + 1])) + _array[index + 1:]\n",
    "    \n",
    "    def is_sorted(l):\n",
    "        return all(a <= b for a, b in zip(l[:-1], l[1:]))\n",
    "    sorted_elements = []\n",
    "    target = max(array)\n",
    "    while not is_sorted(array):\n",
    "        array = array[:]\n",
    "        i = array.index(target)\n",
    "        array = flip(array, i)\n",
    "        sort_states.append(array)\n",
    "        array = flip(array, len(array) - len(sorted_elements) - 1)\n",
    "        sort_states.append(array)\n",
    "        sorted_elements.append(target)\n",
    "        target = max(list(set(array) - set(sorted_elements)))\n",
    "        sort_states.append(array)\n",
    "    return sort_states[:-1]"
   ]
  },
  {
   "cell_type": "code",
   "execution_count": 17,
   "metadata": {},
   "outputs": [
    {
     "data": {
      "text/plain": [
       "[[2, 4, 3, 1],\n",
       " [4, 2, 3, 1],\n",
       " [1, 3, 2, 4],\n",
       " [1, 3, 2, 4],\n",
       " [3, 1, 2, 4],\n",
       " [2, 1, 3, 4],\n",
       " [2, 1, 3, 4],\n",
       " [2, 1, 3, 4],\n",
       " [1, 2, 3, 4]]"
      ]
     },
     "execution_count": 17,
     "metadata": {},
     "output_type": "execute_result"
    }
   ],
   "source": [
    "pancakeSort([2,4,3,1])"
   ]
  },
  {
   "cell_type": "code",
   "execution_count": 18,
   "metadata": {},
   "outputs": [
    {
     "data": {
      "text/plain": [
       "[[2, 3, 1], [3, 2, 1], [1, 2, 3]]"
      ]
     },
     "execution_count": 18,
     "metadata": {},
     "output_type": "execute_result"
    }
   ],
   "source": [
    "pancakeSort([2,3,1])"
   ]
  },
  {
   "cell_type": "code",
   "execution_count": 19,
   "metadata": {},
   "outputs": [
    {
     "data": {
      "text/plain": [
       "[[3, 5, 1, 4, 2],\n",
       " [5, 3, 1, 4, 2],\n",
       " [2, 4, 1, 3, 5],\n",
       " [2, 4, 1, 3, 5],\n",
       " [4, 2, 1, 3, 5],\n",
       " [3, 1, 2, 4, 5],\n",
       " [3, 1, 2, 4, 5],\n",
       " [3, 1, 2, 4, 5],\n",
       " [2, 1, 3, 4, 5],\n",
       " [2, 1, 3, 4, 5],\n",
       " [2, 1, 3, 4, 5],\n",
       " [1, 2, 3, 4, 5]]"
      ]
     },
     "execution_count": 19,
     "metadata": {},
     "output_type": "execute_result"
    }
   ],
   "source": [
    "pancakeSort([3,5,1,4,2])"
   ]
  }
 ],
 "metadata": {
  "kernelspec": {
   "display_name": "Python 3",
   "language": "python",
   "name": "python3"
  },
  "language_info": {
   "codemirror_mode": {
    "name": "ipython",
    "version": 3
   },
   "file_extension": ".py",
   "mimetype": "text/x-python",
   "name": "python",
   "nbconvert_exporter": "python",
   "pygments_lexer": "ipython3",
   "version": "3.6.0"
  }
 },
 "nbformat": 4,
 "nbformat_minor": 2
}
