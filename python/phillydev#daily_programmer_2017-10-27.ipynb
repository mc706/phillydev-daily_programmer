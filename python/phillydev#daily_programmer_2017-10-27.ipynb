{
 "cells": [
  {
   "cell_type": "markdown",
   "metadata": {},
   "source": [
    "Write a program to test if string input is can be constructed by taking a substring of itself appended together.\n",
    "\n",
    "```\n",
    "abab => \n",
    "true // the substring is ab and it can be found twice\n",
    "yxy =>\n",
    "false // yxyx !== yxy && xyxy !== yxy\n",
    "abcabcabcabc => \n",
    "true // substring abc 4 times and abcabc 2 times\n",
    "```"
   ]
  },
  {
   "cell_type": "code",
   "execution_count": 1,
   "metadata": {},
   "outputs": [],
   "source": [
    "def is_repeated_substr(string: str) -> bool:\n",
    "    \"\"\"\n",
    "    Checks if a string is a repeating substr of itself\n",
    "    \n",
    "    >>> is_repeated_substr(\"abab\")\n",
    "    True\n",
    "    >>> is_repeated_substr(\"yxy\")\n",
    "    False\n",
    "    >>> is_repeated_substr(\"abcabcabcabc\")\n",
    "    True\n",
    "    \"\"\"\n",
    "    for n, letter in enumerate(string):\n",
    "        for m in range(len(string) - n):\n",
    "            l = m + n + 1\n",
    "            if string[n:l] * (len(string) // l) == string and len(string) != l:\n",
    "                return True\n",
    "    return False\n",
    "\n",
    "if __name__ == \"__main__\":\n",
    "    import doctest\n",
    "    doctest.testmod()\n",
    "            "
   ]
  }
 ],
 "metadata": {
  "kernelspec": {
   "display_name": "Python 3",
   "language": "python",
   "name": "python3"
  },
  "language_info": {
   "codemirror_mode": {
    "name": "ipython",
    "version": 3
   },
   "file_extension": ".py",
   "mimetype": "text/x-python",
   "name": "python",
   "nbconvert_exporter": "python",
   "pygments_lexer": "ipython3",
   "version": "3.6.0"
  }
 },
 "nbformat": 4,
 "nbformat_minor": 2
}
