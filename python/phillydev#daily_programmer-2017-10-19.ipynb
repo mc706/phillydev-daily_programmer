{
 "cells": [
  {
   "cell_type": "markdown",
   "metadata": {},
   "source": [
    "Write a function that converts a string into a zigzag\n",
    "\n",
    "`convertZigZag(\"dailyprogrammer)`\n",
    "\n",
    "```\n",
    "d y g m\n",
    "alpogamr\n",
    "i r r e\n",
    "```"
   ]
  },
  {
   "cell_type": "code",
   "execution_count": 1,
   "metadata": {},
   "outputs": [],
   "source": [
    "def convertZigZag(word: str, rows: int) -> None:\n",
    "    \"\"\"\n",
    "    convert word to zigzag print\n",
    "    \n",
    "    >>> convertZigZag(\"dailyprogrammer\", 3)\n",
    "    d y g m\n",
    "    alporme\n",
    "    i r a r\n",
    "    \n",
    "    >>> convertZigZag(\"dailyprogrammer\", 4)\n",
    "    d  r  m\n",
    "    a po me\n",
    "    iy ga r\n",
    "    l  r\n",
    "\n",
    "    >>> convertZigZag(\"dailyprogrammer\", 5)\n",
    "    d   g\n",
    "    a  or\n",
    "    i r a r\n",
    "    lp  me\n",
    "    y   m\n",
    "    \"\"\"\n",
    "    grid = [[\" \" for _ in range(len(word))] for _ in range(rows)]\n",
    "    downward = True\n",
    "    x = y = 0\n",
    "    for letter in word:\n",
    "        grid[y][x] = letter\n",
    "        if downward:\n",
    "            y += 1\n",
    "        else:\n",
    "            x += 1\n",
    "            y -= 1\n",
    "        if y == (rows - 1) or y == 0:\n",
    "            downward = not downward\n",
    "    for line in grid:\n",
    "        print(\"\".join(line).rstrip())\n",
    "        \n",
    "if __name__ == \"__main__\":\n",
    "    import doctest\n",
    "    doctest.testmod()"
   ]
  }
 ],
 "metadata": {
  "kernelspec": {
   "display_name": "Python 3",
   "language": "python",
   "name": "python3"
  },
  "language_info": {
   "codemirror_mode": {
    "name": "ipython",
    "version": 3
   },
   "file_extension": ".py",
   "mimetype": "text/x-python",
   "name": "python",
   "nbconvert_exporter": "python",
   "pygments_lexer": "ipython3",
   "version": "3.6.0"
  }
 },
 "nbformat": 4,
 "nbformat_minor": 2
}
