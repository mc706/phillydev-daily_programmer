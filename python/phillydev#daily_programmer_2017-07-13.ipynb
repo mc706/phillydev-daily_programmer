{
 "cells": [
  {
   "cell_type": "markdown",
   "metadata": {},
   "source": [
    "Write a program that condenses a string input whenever possible.\n",
    "\n",
    "```\n",
    "input => I heard the pastor sing live verses easily.\n",
    "output => I heard the pastor sing liverses easily.\n",
    "```\n",
    "\n",
    "```\n",
    "Deep episodes of Deep Space Nine came on the television only after the news.\n",
    "Deepisodes of Deep Space Nine came on the televisionly after the news.\n",
    "\n",
    "Digital alarm clocks scare area children.\n",
    "Digitalarm clockscarea children.\n",
    "```"
   ]
  },
  {
   "cell_type": "code",
   "execution_count": 33,
   "metadata": {
    "collapsed": false
   },
   "outputs": [],
   "source": [
    "def condense(phrase: str) -> str:\n",
    "    \"\"\"\n",
    "    Consenses a phrase by combining contingious words with repeating characters.\n",
    "    \n",
    "    >>> condense(\"I heard the pastor sing live verses easily.\")\n",
    "    'I heard the pastor sing liverses easily.'\n",
    "    >>> condense(\"Deep episodes of Deep Space Nine came on the television only after the news.\")\n",
    "    'Deepisodes of Deep Space Nine came on the televisionly after the news.'\n",
    "    >>> condense(\"Digital alarm clocks scare area children.\")\n",
    "    'Digitalarm clockscarea children.'\n",
    "    \"\"\"\n",
    "    words = list(reversed(phrase.split(\" \")))\n",
    "    out = []\n",
    "    while words:\n",
    "        found = False\n",
    "        word = words.pop()\n",
    "        if not words:\n",
    "            out.append(word)\n",
    "            return \" \".join(out)\n",
    "        next_word = words.pop()\n",
    "        for part in [next_word[:i] for i in range(1, len(next_word) + 1)]:\n",
    "            if word.endswith(part):\n",
    "                new_word = word[:-len(part)] + next_word\n",
    "                words.append(new_word)\n",
    "                found = True\n",
    "        if not found:\n",
    "            out.append(word)\n",
    "            words.append(next_word)\n",
    "    \n",
    "if __name__ == \"__main__\":\n",
    "    import doctest\n",
    "    doctest.testmod()"
   ]
  },
  {
   "cell_type": "code",
   "execution_count": 7,
   "metadata": {
    "collapsed": true
   },
   "outputs": [],
   "source": [
    "[1,2,3].reverse()\n"
   ]
  },
  {
   "cell_type": "code",
   "execution_count": 19,
   "metadata": {
    "collapsed": false
   },
   "outputs": [
    {
     "data": {
      "text/plain": [
       "1"
      ]
     },
     "execution_count": 19,
     "metadata": {},
     "output_type": "execute_result"
    }
   ],
   "source": [
    "i = -1\n",
    "-i\n"
   ]
  },
  {
   "cell_type": "code",
   "execution_count": 27,
   "metadata": {
    "collapsed": false
   },
   "outputs": [
    {
     "data": {
      "text/plain": [
       "['a', 'ab', 'abc', 'abcd', 'abcde', 'abcdef', 'abcdefg']"
      ]
     },
     "execution_count": 27,
     "metadata": {},
     "output_type": "execute_result"
    }
   ],
   "source": [
    "word = \"abcdefg\"\n",
    "[word[:i] for i in range(1, len(word)+1)]"
   ]
  },
  {
   "cell_type": "code",
   "execution_count": null,
   "metadata": {
    "collapsed": true
   },
   "outputs": [],
   "source": []
  }
 ],
 "metadata": {
  "kernelspec": {
   "display_name": "Python 3",
   "language": "python",
   "name": "python3"
  },
  "language_info": {
   "codemirror_mode": {
    "name": "ipython",
    "version": 3
   },
   "file_extension": ".py",
   "mimetype": "text/x-python",
   "name": "python",
   "nbconvert_exporter": "python",
   "pygments_lexer": "ipython3",
   "version": "3.6.0"
  }
 },
 "nbformat": 4,
 "nbformat_minor": 2
}
