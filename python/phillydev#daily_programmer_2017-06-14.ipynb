{
 "cells": [
  {
   "cell_type": "markdown",
   "metadata": {},
   "source": [
    "Write a program that takes an array of strings and outputs them rows with `x` as a fill letter. If the string ends with `x` like `fox` the next fill letter should become `z`.\n",
    "\n",
    "```outputArray(cow, fox, hound, fish)\n",
    "```\n",
    "\n",
    "```cowxx\n",
    "foxzx\n",
    "hound\n",
    "fishx```\n"
   ]
  },
  {
   "cell_type": "code",
   "execution_count": 12,
   "metadata": {
    "collapsed": false
   },
   "outputs": [],
   "source": [
    "def outputArray(*args):\n",
    "    \"\"\"\n",
    "    Outputs each passed in string padded write with \"x\". If the last character is \"x\", the first pad character is z.\n",
    "    \n",
    "    >>> outputArray(\"cow\", \"fox\", \"hound\", \"fish\")\n",
    "    ['cowxx', 'foxzx', 'hound', 'fishx']\n",
    "    \"\"\"\n",
    "    widest = max(map(len, args))\n",
    "    cleaned = [word + 'z' if word.endswith('x') else word for word in args]\n",
    "    return [word.ljust(widest, 'x') for word in cleaned]\n",
    "    \n",
    "if __name__ == '__main__':\n",
    "    import doctest\n",
    "    doctest.testmod()\n",
    "    "
   ]
  },
  {
   "cell_type": "code",
   "execution_count": 4,
   "metadata": {
    "collapsed": false
   },
   "outputs": [
    {
     "data": {
      "text/plain": [
       "2"
      ]
     },
     "execution_count": 4,
     "metadata": {},
     "output_type": "execute_result"
    }
   ],
   "source": [
    "a = ['12','2','3','4','5','6']\n",
    "\n",
    "max(map(len, a))"
   ]
  },
  {
   "cell_type": "code",
   "execution_count": 16,
   "metadata": {
    "collapsed": false
   },
   "outputs": [],
   "source": [
    "def outputArray(*args): map(lambda word: word.ljust(max(map(len,args)), 'x') if word[-1] != 'x' else (word + 'z').ljust(max(map(len,args)), 'x') , args)"
   ]
  },
  {
   "cell_type": "code",
   "execution_count": 14,
   "metadata": {
    "collapsed": false
   },
   "outputs": [
    {
     "data": {
      "text/plain": [
       "'abxxx'"
      ]
     },
     "execution_count": 14,
     "metadata": {},
     "output_type": "execute_result"
    }
   ],
   "source": []
  },
  {
   "cell_type": "code",
   "execution_count": null,
   "metadata": {
    "collapsed": true
   },
   "outputs": [],
   "source": []
  }
 ],
 "metadata": {
  "kernelspec": {
   "display_name": "Python 3",
   "language": "python",
   "name": "python3"
  },
  "language_info": {
   "codemirror_mode": {
    "name": "ipython",
    "version": 3
   },
   "file_extension": ".py",
   "mimetype": "text/x-python",
   "name": "python",
   "nbconvert_exporter": "python",
   "pygments_lexer": "ipython3",
   "version": "3.6.0"
  }
 },
 "nbformat": 4,
 "nbformat_minor": 2
}
