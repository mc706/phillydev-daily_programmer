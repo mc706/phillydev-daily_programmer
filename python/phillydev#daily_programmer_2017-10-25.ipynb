{
 "cells": [
  {
   "cell_type": "markdown",
   "metadata": {},
   "source": [
    "Given an array find all unique triplets in the array which gives the sum of target.\n",
    "\n",
    "findSetsOfThree([-1, 0, 1, 2, -1, -4], 0)\n",
    "\n",
    "```\n",
    "[-1, 0, 1]\n",
    "[-1, -1, 2]\n",
    "```"
   ]
  },
  {
   "cell_type": "code",
   "execution_count": 1,
   "metadata": {},
   "outputs": [],
   "source": [
    "from typing import List\n",
    "from itertools import combinations\n",
    "\n",
    "def findSetsOfThree(array: List[int], target: int) -> List[List[int]]:\n",
    "    \"\"\"\n",
    "    Find all unique triplets sum to target\n",
    "    \n",
    "    >>> findSetsOfThree([-1, 0, 1, 2, -1, -4], 0)\n",
    "    [[-1, 0, 1], [-1, -1, 2]]\n",
    "    \"\"\"\n",
    "    triplets = combinations(array, 3)\n",
    "    valid = []\n",
    "    for triplet in triplets:\n",
    "        if sum(triplet) == target:\n",
    "            sorted_triplet = sorted(triplet)\n",
    "            if sorted_triplet not in valid:\n",
    "                valid.append(sorted_triplet)\n",
    "    return valid\n",
    "        \n",
    "\n",
    "if __name__ == \"__main__\":\n",
    "    import doctest\n",
    "    doctest.testmod()"
   ]
  },
  {
   "cell_type": "code",
   "execution_count": null,
   "metadata": {},
   "outputs": [],
   "source": []
  }
 ],
 "metadata": {
  "kernelspec": {
   "display_name": "Python 3",
   "language": "python",
   "name": "python3"
  },
  "language_info": {
   "codemirror_mode": {
    "name": "ipython",
    "version": 3
   },
   "file_extension": ".py",
   "mimetype": "text/x-python",
   "name": "python",
   "nbconvert_exporter": "python",
   "pygments_lexer": "ipython3",
   "version": "3.6.0"
  }
 },
 "nbformat": 4,
 "nbformat_minor": 2
}
