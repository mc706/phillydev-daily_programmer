{
 "cells": [
  {
   "cell_type": "markdown",
   "metadata": {},
   "source": [
    "Note: By all means use a library for any daily_programmer task, this is encouraged.\n",
    "\n",
    "JSON has 6 types, `string` `number` `object` `array` `boolean` and `null`. Please write a program that takes a JSON string and outputs which types it contains.\n",
    "\n",
    "```\n",
    "{\n",
    "  \"name\": \"Devin\",\n",
    "  \"age\": 38,\n",
    "  \"hasPets\": true  \n",
    "}\n",
    "\n",
    "=> This JSON object has strings, numbers, and booleans\n",
    "\n",
    "{\n",
    "  \"name\": \"Devin\",\n",
    "  \"age\": 38,\n",
    "  \"hasPets\": true,  \n",
    "  \"petNames\": [\n",
    "    \"Joey\",\n",
    "    \"Tuna\",\n",
    "    \"Seven\"\n",
    "  ]\n",
    "}\n",
    "\n",
    "=> This JSON object has strings, numbers, booleans, and arrays\n",
    "```"
   ]
  },
  {
   "cell_type": "code",
   "execution_count": 1,
   "metadata": {
    "collapsed": true
   },
   "outputs": [],
   "source": [
    "import json\n",
    "\n",
    "def getJSONTypes(json_input: str) -> str:\n",
    "    mapped_types = {\n",
    "        \"float\": \"numbers\",\n",
    "        \"int\": \"numbers\",\n",
    "        \"dict\": \"objects\",\n",
    "        \"list\": \"arrays\",\n",
    "        \"None\": \"nulls\",\n",
    "        \"bool\": \"booleans\",\n",
    "        \"str\": \"strings\"\n",
    "    }\n",
    "    parsed = json.loads(json_input)\n",
    "    types = set()\n",
    "    for key in parsed.keys():\n",
    "        types.add(mapped_types[type(parsed[key]).__name__])\n",
    "    types_ = list(types)\n",
    "    if len(types) <= 1:\n",
    "        return f\"This object has {types_[0]}\"\n",
    "    else:\n",
    "        return f\"This object has {', '.join(types_[:-1])} and {types_[-1]}\""
   ]
  },
  {
   "cell_type": "code",
   "execution_count": 2,
   "metadata": {},
   "outputs": [
    {
     "data": {
      "text/plain": [
       "'This object has strings, numbers and booleans'"
      ]
     },
     "execution_count": 2,
     "metadata": {},
     "output_type": "execute_result"
    }
   ],
   "source": [
    "my_json = \"\"\"{\n",
    "  \"name\": \"Devin\",\n",
    "  \"age\": 38,\n",
    "  \"hasPets\": true  \n",
    "}\"\"\"\n",
    "getJSONTypes(my_json)"
   ]
  },
  {
   "cell_type": "code",
   "execution_count": 3,
   "metadata": {},
   "outputs": [
    {
     "data": {
      "text/plain": [
       "'This object has strings, numbers, arrays and booleans'"
      ]
     },
     "execution_count": 3,
     "metadata": {},
     "output_type": "execute_result"
    }
   ],
   "source": [
    "example_2 = \"\"\"{\n",
    "  \"name\": \"Devin\",\n",
    "  \"age\": 38,\n",
    "  \"hasPets\": true,  \n",
    "  \"petNames\": [\n",
    "    \"Joey\",\n",
    "    \"Tuna\",\n",
    "    \"Seven\"\n",
    "  ]\n",
    "}\"\"\"\n",
    "getJSONTypes(example_2)"
   ]
  },
  {
   "cell_type": "code",
   "execution_count": null,
   "metadata": {
    "collapsed": true
   },
   "outputs": [],
   "source": []
  }
 ],
 "metadata": {
  "kernelspec": {
   "display_name": "Python 3",
   "language": "python",
   "name": "python3"
  },
  "language_info": {
   "codemirror_mode": {
    "name": "ipython",
    "version": 3
   },
   "file_extension": ".py",
   "mimetype": "text/x-python",
   "name": "python",
   "nbconvert_exporter": "python",
   "pygments_lexer": "ipython3",
   "version": "3.6.0"
  }
 },
 "nbformat": 4,
 "nbformat_minor": 2
}
