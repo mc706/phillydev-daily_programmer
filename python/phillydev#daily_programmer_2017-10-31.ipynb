{
 "cells": [
  {
   "cell_type": "markdown",
   "metadata": {},
   "source": [
    "Given 2 states, a prev and current. Take the diff of them, and then get only the left hand diff.\n",
    "\n",
    "```\n",
    "prev = {\n",
    "    a: 3,\n",
    "    b: 4,\n",
    "    c: {\n",
    "        d:[1,2,3]\n",
    "        e:5\n",
    "    }\n",
    "};\n",
    "\n",
    "cur = {\n",
    "    a: 6,\n",
    "    b: 4,\n",
    "    c: {\n",
    "        d:[1,5,3]\n",
    "        e:5\n",
    "    }\n",
    "};\n",
    "\n",
    "leftHandDiff = {\n",
    "    a: 3,\n",
    "    c: {\n",
    "        d:[1,2,3]\n",
    "    }\n",
    "};\n",
    "```"
   ]
  },
  {
   "cell_type": "code",
   "execution_count": null,
   "metadata": {},
   "outputs": [],
   "source": [
    "from collections import deque \n",
    "\n",
    "def left_hand_diff(previous: dict, current: dict) -> dict:\n",
    "    \"\"\"\n",
    "    Get the left hand diff of two dictionaries\n",
    "    \"\"\"\n",
    "    "
   ]
  }
 ],
 "metadata": {
  "kernelspec": {
   "display_name": "Python 3",
   "language": "python",
   "name": "python3"
  },
  "language_info": {
   "codemirror_mode": {
    "name": "ipython",
    "version": 3
   },
   "file_extension": ".py",
   "mimetype": "text/x-python",
   "name": "python",
   "nbconvert_exporter": "python",
   "pygments_lexer": "ipython3",
   "version": "3.6.0"
  }
 },
 "nbformat": 4,
 "nbformat_minor": 2
}
