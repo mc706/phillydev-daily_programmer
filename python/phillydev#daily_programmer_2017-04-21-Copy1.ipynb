{
 "cells": [
  {
   "cell_type": "markdown",
   "metadata": {},
   "source": [
    "# Daily Programmer Challenge\n",
    "\n",
    "Given a positive integer n, find the least number of perfect square numbers (for example, 1, 4, 9, 16, ...) which sum to n.\n",
    "\n",
    "For example, given n = 12, return 3 because 12 = 4 + 4 + 4; given n = 13, return 2 because 13 = 4 + 9."
   ]
  },
  {
   "cell_type": "code",
   "execution_count": 10,
   "metadata": {
    "collapsed": false
   },
   "outputs": [],
   "source": [
    "def min_perfect_squares(n: int) -> int:\n",
    "    \"\"\"\n",
    "    Return the Minimum number of perfect squares required to sum a number `n`\n",
    "    \n",
    "    >>> min_perfect_squares(6)\n",
    "    3\n",
    "    >>> min_perfect_squares(12)\n",
    "    3\n",
    "    >>> min_perfect_squares(13)\n",
    "    2\n",
    "    >>> min_perfect_squares(16)\n",
    "    1\n",
    "    >>> min_perfect_squares(100)\n",
    "    1\n",
    "    >>> min_perfect_squares(99)\n",
    "    3\n",
    "    \"\"\"\n",
    "    smallest = {0:0}\n",
    "    for i in range(1, n + 1):\n",
    "        smallest[i] = i\n",
    "        for x in range(1, i + 1):\n",
    "            s = x**2\n",
    "            if s > i:\n",
    "                break;\n",
    "            else:\n",
    "                smallest[i] = min(smallest[i], 1 + smallest[i - s])\n",
    "    return smallest[n]\n"
   ]
  },
  {
   "cell_type": "code",
   "execution_count": 12,
   "metadata": {
    "collapsed": true
   },
   "outputs": [],
   "source": [
    "def min_perfect_squares(n: int, mem={0:0}) -> int:\n",
    "    \"\"\"\n",
    "    Return the Minimum number of perfect squares required to sum a number `n`\n",
    "    \n",
    "    >>> min_perfect_squares(6)\n",
    "    3\n",
    "    >>> min_perfect_squares(12)\n",
    "    3\n",
    "    >>> min_perfect_squares(13)\n",
    "    2\n",
    "    >>> min_perfect_squares(16)\n",
    "    1\n",
    "    >>> min_perfect_squares(100)\n",
    "    1\n",
    "    >>> min_perfect_squares(99)\n",
    "    3\n",
    "    \"\"\"\n",
    "    if n <= 3:\n",
    "        return n\n",
    "    if n in mem:\n",
    "        return mem[n]\n",
    "    num_squares = n\n",
    "    for i in range(1, n + 1):\n",
    "        s = i**2\n",
    "        if s > n:\n",
    "            break\n",
    "        else:\n",
    "            num_squares =  min(num_squares, 1 + min_perfect_squares(n - s));\n",
    "    mem[n] = num_squares\n",
    "    return num_squares"
   ]
  },
  {
   "cell_type": "code",
   "execution_count": null,
   "metadata": {
    "collapsed": true
   },
   "outputs": [],
   "source": []
  }
 ],
 "metadata": {
  "kernelspec": {
   "display_name": "Python 3",
   "language": "python",
   "name": "python3"
  },
  "language_info": {
   "codemirror_mode": {
    "name": "ipython",
    "version": 3
   },
   "file_extension": ".py",
   "mimetype": "text/x-python",
   "name": "python",
   "nbconvert_exporter": "python",
   "pygments_lexer": "ipython3",
   "version": "3.6.0"
  }
 },
 "nbformat": 4,
 "nbformat_minor": 2
}
