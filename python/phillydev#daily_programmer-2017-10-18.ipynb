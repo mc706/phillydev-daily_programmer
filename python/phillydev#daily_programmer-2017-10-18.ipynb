{
 "cells": [
  {
   "cell_type": "markdown",
   "metadata": {},
   "source": [
    "Special thanks to Tom for submitting this challenge. \n",
    "\n",
    "Given a list of space separated words and a number indicating words per line, try to line up words by matching letters.\n",
    "\n",
    "`spaceByLetter(\"some body once told me the world was gonna roll me\", 3)` => \n",
    "\n",
    "```\n",
    "some body once\n",
    "told        me the\n",
    "world             was gonna\n",
    "roll                       me\n",
    "\n",
    "some-body-once\n",
    "told--------me-the\n",
    "world-------------was-gonna\n",
    "roll-----------------------me\n",
    "```"
   ]
  },
  {
   "cell_type": "code",
   "execution_count": 28,
   "metadata": {},
   "outputs": [],
   "source": [
    "def spaceByLetter(phrase: str, groups_of: int) -> str:\n",
    "    \"\"\"\n",
    "    Breaks a phrase of space separated words into lines with n number of words, lining up words by first shared letter.\n",
    "    \n",
    "    >>> spaceByLetter(\"some body once told me the world was gonna roll me\", 3)\n",
    "    some body once\n",
    "    told        me the\n",
    "    world             was gonna\n",
    "      roll                     me\n",
    "    \"\"\"\n",
    "    words = phrase.split(' ')\n",
    "    chunks = [words[i:i + groups_of] for i in range(0, len(words), groups_of)]\n",
    "    lines = []\n",
    "    for chunk in chunks:\n",
    "        if not lines:\n",
    "            lines.append(\" \".join(chunk))\n",
    "        else:\n",
    "            last = lines[-1]\n",
    "            current = \"\"\n",
    "            for word in chunk:\n",
    "                placed = False\n",
    "                for i, letter in enumerate(word):\n",
    "                    if not placed:\n",
    "                        pos = last.find(letter, len(current))\n",
    "                        if pos != -1:\n",
    "                            if pos == i:\n",
    "                                current += word\n",
    "                            else:\n",
    "                                current += (\" \" * (pos - i - len(current))) + word\n",
    "                            placed = True\n",
    "                if not placed:\n",
    "                    spaces = \" \" * (len(last) - len(current))\n",
    "                    if len(last) <= len(current):\n",
    "                        spaces += \" \"\n",
    "                    current += spaces + word\n",
    "                        \n",
    "                    \n",
    "                        \n",
    "            lines.append(current)\n",
    "    print(\"\\n\".join(lines))\n",
    "\n",
    "if __name__ == \"__main__\":\n",
    "    import doctest\n",
    "    doctest.testmod()\n",
    "    "
   ]
  },
  {
   "cell_type": "code",
   "execution_count": null,
   "metadata": {
    "collapsed": true
   },
   "outputs": [],
   "source": []
  }
 ],
 "metadata": {
  "kernelspec": {
   "display_name": "Python 3",
   "language": "python",
   "name": "python3"
  },
  "language_info": {
   "codemirror_mode": {
    "name": "ipython",
    "version": 3
   },
   "file_extension": ".py",
   "mimetype": "text/x-python",
   "name": "python",
   "nbconvert_exporter": "python",
   "pygments_lexer": "ipython3",
   "version": "3.6.0"
  }
 },
 "nbformat": 4,
 "nbformat_minor": 2
}
