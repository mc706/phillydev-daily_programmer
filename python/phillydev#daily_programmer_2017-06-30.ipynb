{
 "cells": [
  {
   "cell_type": "markdown",
   "metadata": {},
   "source": [
    "Given an array of integers, return indices of the two numbers such that they add up to a specific target.\n",
    "\n",
    "You may assume that any solution will do, and you may not use the same element twice.\n",
    "\n",
    "```returnNumbers([3, 7, 8, 11], 18)\n",
    "=> 7, 11\n",
    "returnNumbers([5, 4, 9, 44], 14)\n",
    "=> 5, 9\n",
    "returnNumbers([2, 4, 7, 5], 9)\n",
    "=> 5, 4 \n",
    "or\n",
    "=> 2, 7```"
   ]
  },
  {
   "cell_type": "code",
   "execution_count": 25,
   "metadata": {
    "collapsed": false
   },
   "outputs": [],
   "source": [
    "def returnNumbers(numbers: list, target: int) -> (int, int):\n",
    "    \"\"\"\n",
    "    Return indicies of two numbers in `numbers` that add up to `target`\n",
    "    \n",
    "    >>> returnNumbers([3, 7, 8, 11], 18)\n",
    "    (1, 3)\n",
    "    >>> returnNumbers([5, 4, 9, 44], 14)\n",
    "    (0, 2)\n",
    "    >>> returnNumbers([-30, 0, 5, 4, 44], 14)\n",
    "    (0, 4)\n",
    "    >>> returnNumbers([1, 4, 4, 6], 8)\n",
    "    (1, 2)\n",
    "    \"\"\"\n",
    "    sorted_array = sorted(numbers)\n",
    "    high, low = [], []\n",
    "    for n in sorted_array:\n",
    "        high.append(n) if n >= target/2 else low.append(n)\n",
    "    for n in high:\n",
    "        m = target - n\n",
    "        if m in low:\n",
    "            return numbers.index(m), numbers.index(n)\n",
    "        elif n == m:\n",
    "            return tuple([i for i, j in enumerate(numbers) if j == n])\n",
    "    return None\n",
    "        \n",
    "if __name__ == \"__main__\":\n",
    "    import doctest\n",
    "    doctest.testmod()"
   ]
  },
  {
   "cell_type": "code",
   "execution_count": 23,
   "metadata": {
    "collapsed": false
   },
   "outputs": [],
   "source": [
    "returnNums = lambda nums, target: {frozenset((x, y)) for x in nums for y in nums if x + y == target}"
   ]
  },
  {
   "cell_type": "code",
   "execution_count": 24,
   "metadata": {
    "collapsed": false
   },
   "outputs": [
    {
     "data": {
      "text/plain": [
       "{frozenset({7, 11})}"
      ]
     },
     "execution_count": 24,
     "metadata": {},
     "output_type": "execute_result"
    }
   ],
   "source": [
    "returnNums([3, 7, 8, 11], 18)\n"
   ]
  },
  {
   "cell_type": "code",
   "execution_count": null,
   "metadata": {
    "collapsed": true
   },
   "outputs": [],
   "source": []
  }
 ],
 "metadata": {
  "kernelspec": {
   "display_name": "Python 3",
   "language": "python",
   "name": "python3"
  },
  "language_info": {
   "codemirror_mode": {
    "name": "ipython",
    "version": 3
   },
   "file_extension": ".py",
   "mimetype": "text/x-python",
   "name": "python",
   "nbconvert_exporter": "python",
   "pygments_lexer": "ipython3",
   "version": "3.6.0"
  }
 },
 "nbformat": 4,
 "nbformat_minor": 2
}
