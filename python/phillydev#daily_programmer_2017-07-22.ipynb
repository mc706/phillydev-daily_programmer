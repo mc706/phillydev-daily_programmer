{
 "cells": [
  {
   "cell_type": "markdown",
   "metadata": {},
   "source": [
    "Our next few problems will be about JSON.\n",
    "\n",
    "The following data is being represented as XML. Please output it as JSON.\n",
    "\n",
    "```\n",
    "<particpants>\n",
    "    <particpant>\n",
    "        <firstName>Michael</firstName> <lastName>Flynn</lastName>\n",
    "    </particpant>\n",
    "    <particpant>\n",
    "        <firstName>Mika</firstName> <lastName>Lucchini</lastName>\n",
    "    </particpant>\n",
    "    <particpant>\n",
    "        <firstName>Ryan</firstName> <lastName>McDevitt</lastName>\n",
    "    </particpant>\n",
    "</particpants>\n",
    "```\n",
    "\n",
    "```\n",
    "{\"particpants\":[\n",
    "    { \"firstName\":\"Michael\", \"lastName\":\"Flynn\" },\n",
    "    { \"firstName\":\"Mika\", \"lastName\":\"Lucchini\" },\n",
    "    { \"firstName\":\"Ryan\", \"lastName\":\"McDevitt\" }\n",
    "]}\n",
    "```\n"
   ]
  },
  {
   "cell_type": "code",
   "execution_count": 1,
   "metadata": {},
   "outputs": [],
   "source": [
    "from xml.dom.minidom import parseString\n",
    "import json\n",
    "\n",
    "def xml_to_json(xml_input: str) -> str:\n",
    "    dom = parseString(xml_input)\n",
    "    result = parseElement(dom)\n",
    "    return json.dumps(result)\n",
    "\n",
    "def is_plural_of(noun: str, collection: str) -> bool:\n",
    "    \"\"\"\n",
    "    Naive Plural Check\n",
    "    \"\"\"\n",
    "    return noun in collection\n",
    "    \n",
    "def parseElement(element, initial=None):\n",
    "    children = list(filter(lambda x: x.nodeType == 1, element.childNodes))\n",
    "    if children:\n",
    "        if element.localName and is_plural_of(children[0].localName, element.localName):\n",
    "            # return a list\n",
    "            if not initial:\n",
    "                initial = []\n",
    "            for child in children:\n",
    "                initial.append(parseElement(child))\n",
    "        else:\n",
    "            if not initial:\n",
    "                initial = {}\n",
    "            for child in children:\n",
    "                initial[child.localName] = parseElement(child)\n",
    "    else:\n",
    "        return element.firstChild.nodeValue\n",
    "    return initial"
   ]
  },
  {
   "cell_type": "code",
   "execution_count": 2,
   "metadata": {},
   "outputs": [
    {
     "data": {
      "text/plain": [
       "'{\"particpants\": [{\"firstName\": \"Michael\", \"lastName\": \"Flynn\"}, {\"firstName\": \"Mika\", \"lastName\": \"Lucchini\"}, {\"firstName\": \"Ryan\", \"lastName\": \"McDevitt\"}]}'"
      ]
     },
     "execution_count": 2,
     "metadata": {},
     "output_type": "execute_result"
    }
   ],
   "source": [
    "my_xml = \"\"\"<particpants>\n",
    "    <particpant>\n",
    "        <firstName>Michael</firstName> <lastName>Flynn</lastName>\n",
    "    </particpant>\n",
    "    <particpant>\n",
    "        <firstName>Mika</firstName> <lastName>Lucchini</lastName>\n",
    "    </particpant>\n",
    "    <particpant>\n",
    "        <firstName>Ryan</firstName> <lastName>McDevitt</lastName>\n",
    "    </particpant>\n",
    "</particpants>\"\"\"\n",
    "x = parseString(my_xml)\n",
    "xml_to_json(my_xml)\n",
    "\n",
    "\n",
    "\n",
    "\n",
    "\n",
    "\n",
    "\n",
    "\n",
    "\n",
    "\n"
   ]
  },
  {
   "cell_type": "code",
   "execution_count": null,
   "metadata": {
    "collapsed": true
   },
   "outputs": [],
   "source": []
  }
 ],
 "metadata": {
  "kernelspec": {
   "display_name": "Python 3",
   "language": "python",
   "name": "python3"
  },
  "language_info": {
   "codemirror_mode": {
    "name": "ipython",
    "version": 3
   },
   "file_extension": ".py",
   "mimetype": "text/x-python",
   "name": "python",
   "nbconvert_exporter": "python",
   "pygments_lexer": "ipython3",
   "version": "3.6.0"
  }
 },
 "nbformat": 4,
 "nbformat_minor": 2
}
