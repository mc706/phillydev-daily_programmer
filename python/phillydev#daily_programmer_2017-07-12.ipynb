{
 "cells": [
  {
   "cell_type": "markdown",
   "metadata": {},
   "source": [
    "Make a spiral that begins with 1 and starts from the top left, going towards the right, and ends with the square of that number.\n",
    "\n",
    "```5\n",
    "\n",
    "// ----->\n",
    "1   2  3  4 5  // |\n",
    "16 17 18 19 6  // |\n",
    "15 24 25 20 7  // |\n",
    "14 23 22 21 8  // V\n",
    "13 12 11 10 9  //\n",
    "// < --------\n",
    "\n",
    "\n",
    "4\n",
    "\n",
    "1   2  3  4\n",
    "12 13 14  5\n",
    "11 16 15  6\n",
    "10  9  8  7\n",
    "```\n",
    "\n",
    "Bonus points for getting the spacing right."
   ]
  },
  {
   "cell_type": "code",
   "execution_count": 61,
   "metadata": {
    "collapsed": false
   },
   "outputs": [
    {
     "name": "stdout",
     "output_type": "stream",
     "text": [
      "(0)\n",
      "\n",
      "**********\n",
      "(1)\n",
      " 1\n",
      "**********\n",
      "(2)\n",
      " 1  2\n",
      " 4  3\n",
      "**********\n",
      "(3)\n",
      " 1  2  3\n",
      " 8  9  4\n",
      " 7  6  5\n",
      "**********\n",
      "(4)\n",
      " 1  2  3  4\n",
      "12 13 14  5\n",
      "11 16 15  6\n",
      "10  9  8  7\n",
      "**********\n",
      "(5)\n",
      " 1  2  3  4  5\n",
      "16 17 18 19  6\n",
      "15 24 25 20  7\n",
      "14 23 22 21  8\n",
      "13 12 11 10  9\n",
      "**********\n",
      "(6)\n",
      " 1  2  3  4  5  6\n",
      "20 21 22 23 24  7\n",
      "19 32 33 34 25  8\n",
      "18 31 36 35 26  9\n",
      "17 30 29 28 27 10\n",
      "16 15 14 13 12 11\n",
      "**********\n",
      "(7)\n",
      " 1  2  3  4  5  6  7\n",
      "24 25 26 27 28 29  8\n",
      "23 40 41 42 43 30  9\n",
      "22 39 48 49 44 31 10\n",
      "21 38 47 46 45 32 11\n",
      "20 37 36 35 34 33 12\n",
      "19 18 17 16 15 14 13\n",
      "**********\n",
      "(8)\n",
      " 1  2  3  4  5  6  7  8\n",
      "28 29 30 31 32 33 34  9\n",
      "27 48 49 50 51 52 35 10\n",
      "26 47 60 61 62 53 36 11\n",
      "25 46 59 64 63 54 37 12\n",
      "24 45 58 57 56 55 38 13\n",
      "23 44 43 42 41 40 39 14\n",
      "22 21 20 19 18 17 16 15\n",
      "**********\n",
      "(9)\n",
      " 1  2  3  4  5  6  7  8  9\n",
      "32 33 34 35 36 37 38 39 10\n",
      "31 56 57 58 59 60 61 40 11\n",
      "30 55 72 73 74 75 62 41 12\n",
      "29 54 71 80 81 76 63 42 13\n",
      "28 53 70 79 78 77 64 43 14\n",
      "27 52 69 68 67 66 65 44 15\n",
      "26 51 50 49 48 47 46 45 16\n",
      "25 24 23 22 21 20 19 18 17\n",
      "**********\n",
      "(10)\n",
      "  1   2   3   4   5   6   7   8   9  10\n",
      " 36  37  38  39  40  41  42  43  44  11\n",
      " 35  64  65  66  67  68  69  70  45  12\n",
      " 34  63  84  85  86  87  88  71  46  13\n",
      " 33  62  83  96  97  98  89  72  47  14\n",
      " 32  61  82  95 100  99  90  73  48  15\n",
      " 31  60  81  94  93  92  91  74  49  16\n",
      " 30  59  80  79  78  77  76  75  50  17\n",
      " 29  58  57  56  55  54  53  52  51  18\n",
      " 28  27  26  25  24  23  22  21  20  19\n",
      "**********\n",
      "(11)\n",
      "  1   2   3   4   5   6   7   8   9  10  11\n",
      " 40  41  42  43  44  45  46  47  48  49  12\n",
      " 39  72  73  74  75  76  77  78  79  50  13\n",
      " 38  71  96  97  98  99 100 101  80  51  14\n",
      " 37  70  95 112 113 114 115 102  81  52  15\n",
      " 36  69  94 111 120 121 116 103  82  53  16\n",
      " 35  68  93 110 119 118 117 104  83  54  17\n",
      " 34  67  92 109 108 107 106 105  84  55  18\n",
      " 33  66  91  90  89  88  87  86  85  56  19\n",
      " 32  65  64  63  62  61  60  59  58  57  20\n",
      " 31  30  29  28  27  26  25  24  23  22  21\n",
      "**********\n"
     ]
    }
   ],
   "source": [
    "import itertools\n",
    "from typing import Optional, Tuple\n",
    "\n",
    "\n",
    "class Spiral:\n",
    "    directions = [(1,0), (0,1), (-1,0), (0,-1)] # right, down, left, up\n",
    "    \n",
    "    def __init__(self, n: int):\n",
    "        self.n = n\n",
    "        self.grid = [[0 for _ in range(n)] for _ in range(n)]\n",
    "        self._fill()\n",
    "        \n",
    "    def _get(self, x:int, y:int) -> Optional[int]:\n",
    "        return self.grid[y][x]\n",
    "    \n",
    "    def _set(self, x:int, y:int, value: int) -> None:\n",
    "        self.grid[y][x] = value\n",
    "    \n",
    "    def _directions(self) -> Tuple[int, int]:\n",
    "        for direction in itertools.cycle(self.directions):\n",
    "            yield direction\n",
    "            \n",
    "    def _check_next(self, x: int, y: int, direction: tuple) -> bool:\n",
    "        dx, dy = direction\n",
    "        if x + dx >= self.n or y + dy >= self.n:\n",
    "            return False\n",
    "        next_cell = self._get(x + dx, y + dy)\n",
    "        return next_cell == 0\n",
    "    \n",
    "    def _fill(self):\n",
    "        x = y = i = 0\n",
    "        directions = self._directions()\n",
    "        current_direction = next(directions)\n",
    "        while not(all(map(all, self.grid))) and i < self.n**2:\n",
    "            i += 1\n",
    "            current = self._get(x, y)\n",
    "            if not current:\n",
    "                self._set(x, y, i)\n",
    "            if not self._check_next(x, y, current_direction):\n",
    "                current_direction = next(directions)\n",
    "            dx, dy = current_direction\n",
    "            x += dx\n",
    "            y += dy\n",
    "            \n",
    "    def __repr__(self):\n",
    "        return \"\\n\".join(\" \".join(map(lambda x: str(x).rjust(len(str(self.n)) + 1), row)) for row in self.grid)\n",
    "\n",
    "for i in range(12):\n",
    "    print(f\"({i})\")\n",
    "    print (Spiral(i))\n",
    "    print(\"*\" * 10)"
   ]
  },
  {
   "cell_type": "code",
   "execution_count": 34,
   "metadata": {
    "collapsed": false
   },
   "outputs": [
    {
     "name": "stdout",
     "output_type": "stream",
     "text": [
      "[[True, False, True, True, True], [True, False, True, True, True], [True, False, True, True, True], [True, False, True, True, True], [True, False, True, True, True]]\n"
     ]
    }
   ],
   "source": [
    "a = [[True] * 5]*5\n",
    "a[1][1] = False\n",
    "\n",
    "print(str(a))"
   ]
  },
  {
   "cell_type": "markdown",
   "metadata": {},
   "source": [
    "row(i) 0 = 1 -> n\n",
    "row(i) 1 = (n-1) * 4 -> ((n-1) * 4 + n - (i + i)), n + i\n",
    "row(i) 2 - (n-1) * 4 \n",
    "\n",
    "if row = 0: 1 -> i\n",
    "if row = 1 (n-1)\n",
    "if row = n: ((n-1)*3)+1 -> (n-1)*2+1"
   ]
  },
  {
   "cell_type": "code",
   "execution_count": 102,
   "metadata": {
    "collapsed": false
   },
   "outputs": [
    {
     "name": "stdout",
     "output_type": "stream",
     "text": [
      " 1  2  3  4  5  6  7\n",
      "24 25 26 27 28 29  8\n",
      "23 40 41 42 43 30  9\n",
      "22 39 48 49 44 31 10\n",
      "21 38 47 46 45 32 11\n",
      "20 37 36 35 34 33 12\n",
      "19 18 17 16 15 14 13\n"
     ]
    }
   ],
   "source": [
    "def f(n:int, offset:int, row:int) -> list:\n",
    "    if n == 1: \n",
    "        return [offset + 1]\n",
    "    if row == 0:\n",
    "        return list(range(offset + 1, offset + 1 + n))\n",
    "    elif row == (n - 1):\n",
    "        return list(range((offset + ((n-1) * 4)) - (row -1), ((n-1) * 2) + offset, -1))\n",
    "    else:\n",
    "        return [(n-1) * 4 - (row - 1) + offset] \\\n",
    "            + f((n-2), ((n-1)*4)+offset, (row - 1)) \\\n",
    "            + [(n + row + offset)]\n",
    "    \n",
    "\n",
    "def makeSpiral(n: int) -> str:\n",
    "    spiral = [f(n, 0, i) for i in range(n)]\n",
    "    return \"\\n\".join(\" \".join(map(lambda x: str(x).rjust(len(str(n)) + 1), row)) for row in spiral)\n",
    "\n",
    "print(makeSpiral(7))"
   ]
  },
  {
   "cell_type": "code",
   "execution_count": 75,
   "metadata": {
    "collapsed": false
   },
   "outputs": [
    {
     "data": {
      "text/plain": [
       "[10, 9, 8, 7, 6, 5, 4, 3, 2]"
      ]
     },
     "execution_count": 75,
     "metadata": {},
     "output_type": "execute_result"
    }
   ],
   "source": [
    "list(range(10, 1, -1))\n"
   ]
  },
  {
   "cell_type": "code",
   "execution_count": null,
   "metadata": {
    "collapsed": true
   },
   "outputs": [],
   "source": []
  }
 ],
 "metadata": {
  "kernelspec": {
   "display_name": "Python 3",
   "language": "python",
   "name": "python3"
  },
  "language_info": {
   "codemirror_mode": {
    "name": "ipython",
    "version": 3
   },
   "file_extension": ".py",
   "mimetype": "text/x-python",
   "name": "python",
   "nbconvert_exporter": "python",
   "pygments_lexer": "ipython3",
   "version": "3.6.0"
  }
 },
 "nbformat": 4,
 "nbformat_minor": 2
}
