{
 "cells": [
  {
   "cell_type": "code",
   "execution_count": 30,
   "metadata": {
    "collapsed": false
   },
   "outputs": [],
   "source": [
    "# daily_challenge_2017_03_29.py\n",
    "\n",
    "def overlaps(pairs):\n",
    "    clusters = []\n",
    "    for pair in sorted(pairs):\n",
    "        low, high = pair\n",
    "        found = False\n",
    "        for i, cluster in enumerate(clusters):\n",
    "            cluster_low, cluster_high = cluster\n",
    "            if max(low, cluster_low) <= min(high, cluster_high):\n",
    "                found = True\n",
    "                clusters[i] = [min(low, cluster_low), max(high, cluster_high)]\n",
    "                break;\n",
    "        if not found:\n",
    "            clusters.append(pair)\n",
    "    return clusters\n",
    "\n",
    "if __name__ == '__main__':\n",
    "    examples = [\n",
    "        ([[1,3], [2,6], [8,10], [7,11]], [[1,6], [7,11]]),\n",
    "        ([[5,12], [8,10]],[[5,12]]),\n",
    "        ([[1,3], [2,6], [8,10], [7,11], [6,9]], [[1,11]]),\n",
    "    ]    \n",
    "    for example in examples:\n",
    "        data, result = example\n",
    "        assert overlaps(data) == result, \"got {0} expected {1}\".format(overlaps(data), result)\n",
    "    "
   ]
  },
  {
   "cell_type": "code",
   "execution_count": null,
   "metadata": {
    "collapsed": true
   },
   "outputs": [],
   "source": []
  }
 ],
 "metadata": {
  "kernelspec": {
   "display_name": "Python 3",
   "language": "python",
   "name": "python3"
  },
  "language_info": {
   "codemirror_mode": {
    "name": "ipython",
    "version": 3
   },
   "file_extension": ".py",
   "mimetype": "text/x-python",
   "name": "python",
   "nbconvert_exporter": "python",
   "pygments_lexer": "ipython3",
   "version": "3.6.0"
  }
 },
 "nbformat": 4,
 "nbformat_minor": 2
}
