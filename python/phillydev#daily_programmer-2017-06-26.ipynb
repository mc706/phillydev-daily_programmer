{
 "cells": [
  {
   "cell_type": "markdown",
   "metadata": {},
   "source": [
    "Given a bowling game as an array of comma delimited throws, calculate total score.\n",
    "\n",
    "Bowling Scores are given by the following.\n",
    "\n",
    "If you do not get all of the pins in the frame, you get the number of pins as your score for that frame. If you get all of the pins on your first try (a strike; denoted as \"X\"), you get 10 + the total of the next 2 *throws*. A Spare (denoted \"/\") is 10 + the next throw. If Strike or Spare on the last frame, you get another throw, up to 3 total for all strikes.\n",
    "\n",
    "```\n",
    "calculateScore([\"X\", \"X\", \"X\", \"X\", \"X\", \"X\", \"X\", \"X\", \"X\", \"XXX\"]) -> 300\n",
    "calculateScore([\"X\", \"X\", \"X\", \"X\", \"X\", \"X\", \"X\", \"X\", \"X\", \"XX9\"]) -> 299\n",
    "calculateScore([\"9,/\", \"9,/\", \"9,/\", \"9,/\", \"9,/\", \"9,/\", \"9,/\", \"9,/\", \"9,/\", \"9,/,9\"]) -> 190\n",
    "calculateScore([\"1,/\", \"1,/\", \"1,/\", \"1,/\", \"1,/\", \"1,/\", \"1,/\", \"1,/\", \"1,/\", \"1,/,1\"]) -> 110\n",
    "calculateScore([\"X\", \"9,/\", \"X\", \"9,/\", \"X\", \"9,/\", \"X\", \"9,/\", \"X\", \"9,/,X\"]) -> 200\n",
    "calculateScore([\"6,3\", \"7,2\", \"8,1\", \"9,0\", \"X\", \"5,4\", \"6,3\", \"7,2\", \"8,1\", \"9,0\"]) -> 100\n",
    "```"
   ]
  },
  {
   "cell_type": "code",
   "execution_count": 18,
   "metadata": {
    "collapsed": false
   },
   "outputs": [],
   "source": [
    "def calculateScore(game: list) -> int:\n",
    "    \"\"\"\n",
    "    Calculates a bowling score based on game given as a list of common delimited scores.\n",
    "    \n",
    "    >>> calculateScore([\"X\", \"X\", \"X\", \"X\", \"X\", \"X\", \"X\", \"X\", \"X\", \"X,X,X\"])\n",
    "    300\n",
    "    >>> calculateScore([\"X\", \"X\", \"X\", \"X\", \"X\", \"X\", \"X\", \"X\", \"X\", \"X,X,9\"])\n",
    "    299\n",
    "    >>> calculateScore([\"9,/\", \"9,/\", \"9,/\", \"9,/\", \"9,/\", \"9,/\", \"9,/\", \"9,/\", \"9,/\", \"9,/,9\"])\n",
    "    190\n",
    "    >>> calculateScore([\"1,/\", \"1,/\", \"1,/\", \"1,/\", \"1,/\", \"1,/\", \"1,/\", \"1,/\", \"1,/\", \"1,/,1\"])\n",
    "    110\n",
    "    >>> calculateScore([\"X\", \"9,/\", \"X\", \"9,/\", \"X\", \"9,/\", \"X\", \"9,/\", \"X\", \"9,/,X\"])\n",
    "    200\n",
    "    >>> calculateScore([\"6,3\", \"7,2\", \"8,1\", \"9,0\", \"X\", \"5,4\", \"6,3\", \"7,2\", \"8,1\", \"9,0\"])\n",
    "    100\n",
    "    \"\"\"\n",
    "    score = 0\n",
    "    for i, frame in enumerate(game):\n",
    "        value = 0\n",
    "        if i == 9:\n",
    "            throws = frame.split(',')\n",
    "            if len(throws) == 3:\n",
    "                a, b, c = throws\n",
    "                value = int(a) if a != 'X' else 10\n",
    "                if b == \"X\":\n",
    "                    value += 10\n",
    "                elif b == \"/\":\n",
    "                    value += 10 - int(a)\n",
    "                else:\n",
    "                    value += int(b)\n",
    "                if c == \"X\":\n",
    "                    value += 10\n",
    "                elif c == \"/\":\n",
    "                    value += 10 - int(b)\n",
    "                else:\n",
    "                    value += int(c)\n",
    "            else:\n",
    "                a, b = throws\n",
    "                value = int(a) + int(b)\n",
    "        else:\n",
    "            if frame == \"X\":\n",
    "                value = 10\n",
    "                if game[i+1][0] == \"X\":\n",
    "                    value += 10\n",
    "                    if i == 8:\n",
    "                        value += int(game[i+1][2]) if game[i+1][2] != \"X\" else 10\n",
    "                    else:\n",
    "                        value += int(game[i+2][0]) if game[i+2][0] != \"X\" else 10\n",
    "                elif \"/\" in game[i+1]:\n",
    "                    value += 10\n",
    "                else:\n",
    "                    value += sum(map(int, game[i+1].split(',')))\n",
    "            elif \"/\" in frame:\n",
    "                value = 10\n",
    "                if game[i+1][0] == \"X\":\n",
    "                    value += 10\n",
    "                else:\n",
    "                    value += int(game[i+1][0])\n",
    "            else:\n",
    "                value = sum(map(int, frame.split(',')))\n",
    "        score += value\n",
    "    return score\n",
    "            \n",
    "    \n",
    "if __name__ == \"__main__\":\n",
    "    import doctest\n",
    "    doctest.testmod()"
   ]
  },
  {
   "cell_type": "code",
   "execution_count": null,
   "metadata": {
    "collapsed": true
   },
   "outputs": [],
   "source": []
  }
 ],
 "metadata": {
  "kernelspec": {
   "display_name": "Python 3",
   "language": "python",
   "name": "python3"
  },
  "language_info": {
   "codemirror_mode": {
    "name": "ipython",
    "version": 3
   },
   "file_extension": ".py",
   "mimetype": "text/x-python",
   "name": "python",
   "nbconvert_exporter": "python",
   "pygments_lexer": "ipython3",
   "version": "3.6.0"
  }
 },
 "nbformat": 4,
 "nbformat_minor": 2
}
