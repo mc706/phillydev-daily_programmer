{
 "cells": [
  {
   "cell_type": "markdown",
   "metadata": {},
   "source": [
    "Given an array find all unique quadruplets in the array which gives the sum of target.\n",
    "\n",
    "findSetsOfFour([1, 0, -1, 0, -2, 2], 0)\n",
    "\n",
    "```\n",
    "[-1, 0, 0, 1]\n",
    "[-2, -1, 1, 2]\n",
    "[-2, 0, 0, 2]\n",
    "```"
   ]
  },
  {
   "cell_type": "code",
   "execution_count": 1,
   "metadata": {},
   "outputs": [],
   "source": [
    "from typing import List\n",
    "from itertools import combinations\n",
    "\n",
    "def findSetsOfFour(array: List[int], target: int) -> List[List[int]]:\n",
    "    \"\"\"\n",
    "    Find all unique quadruplets sum to target\n",
    "    \n",
    "    >>> findSetsOfFour([1, 0, -1, 0, -2, 2], 0)\n",
    "    [[-1, 0, 0, 1], [-2, -1, 1, 2], [-2, 0, 0, 2]]\n",
    "    \"\"\"\n",
    "    quadruplets = combinations(array, 4)\n",
    "    valid = []\n",
    "    for quadruplet in quadruplets:\n",
    "        if sum(quadruplet) == target:\n",
    "            sorted_quadruplet = sorted(quadruplet)\n",
    "            if sorted_quadruplet not in valid:\n",
    "                valid.append(sorted_quadruplet)\n",
    "    return valid\n",
    "        \n",
    "\n",
    "if __name__ == \"__main__\":\n",
    "    import doctest\n",
    "    doctest.testmod()"
   ]
  }
 ],
 "metadata": {
  "kernelspec": {
   "display_name": "Python 3",
   "language": "python",
   "name": "python3"
  },
  "language_info": {
   "codemirror_mode": {
    "name": "ipython",
    "version": 3
   },
   "file_extension": ".py",
   "mimetype": "text/x-python",
   "name": "python",
   "nbconvert_exporter": "python",
   "pygments_lexer": "ipython3",
   "version": "3.6.0"
  }
 },
 "nbformat": 4,
 "nbformat_minor": 2
}
