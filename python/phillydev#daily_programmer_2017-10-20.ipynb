{
 "cells": [
  {
   "cell_type": "markdown",
   "metadata": {},
   "source": [
    "Happy Friday daily_programmer!\n",
    "\n",
    "Given an array of integers, return indices of the two numbers such that they add up to a specific target.\n",
    "\n",
    "You may assume that any solution will do, and you may not use the same element twice.\n",
    "\n",
    "```returnNumbers([3, 7, 8, 11], 18)\n",
    "=> 7, 11\n",
    "returnNumbers([5, 4, 9, 44], 14)\n",
    "=> 5, 9\n",
    "returnNumbers([2, 4, 7, 5], 9)\n",
    "=> 5, 4\n",
    "or\n",
    "=> 2, 7```"
   ]
  },
  {
   "cell_type": "code",
   "execution_count": 1,
   "metadata": {
    "collapsed": true
   },
   "outputs": [],
   "source": [
    "import bisect\n",
    "\n",
    "def returnNumbers(numbers: list, target: int) -> tuple:\n",
    "    \"\"\"\n",
    "    Return the numbers in the list that total up to target\n",
    "    \n",
    "    >>> returnNumbers([3, 7, 8, 11], 18)\n",
    "    (7, 11)\n",
    "    >>> returnNumbers([5, 4, 9, 44], 14)\n",
    "    (5, 9)\n",
    "    >>> returnNumbers([2, 4, 7, 5], 9)\n",
    "    (2, 7)\n",
    "    >>> returnNumbers([1, 2, 3, 4], 10)\n",
    "    False\n",
    "    \"\"\"\n",
    "    sorted_numbers = sorted(numbers)\n",
    "    midpoint = bisect.bisect_right(sorted_numbers, target/2)\n",
    "    low, high = sorted_numbers[:midpoint], sorted_numbers[midpoint:]\n",
    "    for n in low:\n",
    "        if (target - n) in high:\n",
    "            return n, target - n\n",
    "    return False\n",
    "    \n",
    "\n",
    "if __name__ == \"__main__\":\n",
    "    import doctest\n",
    "    doctest.testmod()"
   ]
  },
  {
   "cell_type": "code",
   "execution_count": 5,
   "metadata": {},
   "outputs": [],
   "source": [
    "returnNumbers1 = lambda numbers, target: [(x, y) for x in numbers for y in numbers if x + y == target][0]\n",
    "\n"
   ]
  },
  {
   "cell_type": "code",
   "execution_count": 4,
   "metadata": {},
   "outputs": [
    {
     "data": {
      "text/plain": [
       "[(7, 11), (11, 7)]"
      ]
     },
     "execution_count": 4,
     "metadata": {},
     "output_type": "execute_result"
    }
   ],
   "source": [
    "returnNumbers1([3,7,8,11], 18)"
   ]
  },
  {
   "cell_type": "code",
   "execution_count": null,
   "metadata": {
    "collapsed": true
   },
   "outputs": [],
   "source": []
  }
 ],
 "metadata": {
  "kernelspec": {
   "display_name": "Python 3",
   "language": "python",
   "name": "python3"
  },
  "language_info": {
   "codemirror_mode": {
    "name": "ipython",
    "version": 3
   },
   "file_extension": ".py",
   "mimetype": "text/x-python",
   "name": "python",
   "nbconvert_exporter": "python",
   "pygments_lexer": "ipython3",
   "version": "3.6.0"
  }
 },
 "nbformat": 4,
 "nbformat_minor": 2
}
