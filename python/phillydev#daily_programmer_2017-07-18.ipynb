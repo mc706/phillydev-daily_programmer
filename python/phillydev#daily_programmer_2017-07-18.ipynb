{
 "cells": [
  {
   "cell_type": "markdown",
   "metadata": {},
   "source": [
    "This is part two of a multi part challenge.\n",
    "\n",
    "In the game battleship you have to place your boats in valid locations on the board. Please write a function that returns invalid placement if a the location is off the board and shows on the board as `o` for occupied. The `placeBoat()` function can work however you like. I used number or spaces the boat takes up, row, column, direction.\n",
    "\n",
    "```\n",
    "placeBoat(5, g, 8, right)\n",
    "=> invalid placement\n",
    "placeBoat(5, c, 3, right)\n",
    "placeBoat(3, g, 4, down)\n",
    "printBoard()\n",
    "\n",
    "   1   2   3   4   5   6   7   8   9  10\n",
    "a  u   u   u   u   u   u   u   u   u   u\n",
    "b  u   u   u   u   u   u   u   u   u   u\n",
    "c  u   u   o   o   o   o   o   u   u   u\n",
    "d  u   u   u   u   u   u   u   u   u   u\n",
    "e  u   u   u   u   u   u   u   u   u   u\n",
    "f  u   u   u   u   u   u   u   u   u   u\n",
    "g  u   u   u   o   u   u   u   u   u   u\n",
    "h  u   u   u   o   u   u   u   u   u   u\n",
    "i  u   u   u   o   u   u   u   u   u   u\n",
    "j  u   u   u   u   u   u   u   u   u   u\n",
    "\n",
    "```\n"
   ]
  },
  {
   "cell_type": "code",
   "execution_count": 82,
   "metadata": {
    "collapsed": false
   },
   "outputs": [
    {
     "name": "stdout",
     "output_type": "stream",
     "text": [
      "invalid placement: outside game bounds\n",
      "      1   2   3   4   5   6   7   8   9  10\n",
      "  a   u   u   u   u   u   u   u   u   u   u\n",
      "  b   u   u   u   u   u   u   u   u   u   u\n",
      "  c   u   u   o   o   o   o   o   u   u   u\n",
      "  d   u   u   u   u   u   u   u   u   u   u\n",
      "  e   u   u   u   u   u   u   u   u   u   u\n",
      "  f   u   u   u   u   u   u   u   u   u   u\n",
      "  g   u   u   u   o   u   u   u   u   u   u\n",
      "  h   u   u   u   o   u   u   u   u   u   u\n",
      "  i   u   u   u   o   u   u   u   u   u   u\n",
      "  j   u   u   u   u   u   u   u   u   u   u\n"
     ]
    }
   ],
   "source": [
    "import string\n",
    "from functools import reduce\n",
    "\n",
    "def product(*args):\n",
    "    \"\"\"Returns the product of a list of arguments\"\"\"\n",
    "    return reduce(lambda x, y: x * y, args, 1)\n",
    "    \n",
    "def tup_prod(tup1: tuple, tup2: tuple) -> tuple:\n",
    "    \"\"\"Multiplies to tuples together\"\"\"\n",
    "    return tuple(product(*x) for x in zip(tup1, tup2))\n",
    "\n",
    "def tup_mul(tup: tuple, n: int) -> tuple:\n",
    "    \"\"\"Multiplies a tuple with an int\"\"\"\n",
    "    return tup_prod(tup, iter(lambda: n, -1))\n",
    "\n",
    "def tup_sum(tup1: tuple, tup2: tuple) -> tuple:\n",
    "    \"\"\"Sums two tuples\"\"\"\n",
    "    return tuple(sum(x) for x in zip(tup1, tup2))\n",
    "\n",
    "class Point:\n",
    "    def __init__(self, x: int, y: int):\n",
    "        self.x = x\n",
    "        self.y = y\n",
    "    \n",
    "    def __add__(self, other):\n",
    "        if isinstance(other, Point):\n",
    "            return Point(self.x + other.x, self.y + other.y)\n",
    "        elif isinstance(other, tuple):\n",
    "            return Point(self.x + other[0], self.y + other[1])\n",
    "        else:\n",
    "            raise TypeError(\"Unsupported Type for addition {}\".type(other))\n",
    "    \n",
    "    def __mul__(self, other):\n",
    "        if isinstance(other, Point):\n",
    "            return Point(self.x * other.x, self.y * other.y)\n",
    "        elif isinstance(other, tuple):\n",
    "            return Point(self.x * other[0], self.y * other[1])\n",
    "        elif isinstance(other, int):\n",
    "            return Point(self.x * other, self.y * other)\n",
    "        else:\n",
    "            return TypeError(\"Unsupported Type of addition {}\".type(other))\n",
    "\n",
    "    def __repr__(self):\n",
    "        return \"Point<{0.x},{0.y}>\".format(self)\n",
    "    \n",
    "    def to_tuple(self):\n",
    "        return self.x, self.y\n",
    "    \n",
    "class Coordinate:\n",
    "    def __init__(self, row: str, column: int):\n",
    "        self.row = row\n",
    "        self.column = column\n",
    "        \n",
    "    def __repr__(self):\n",
    "        return \n",
    "\n",
    "class Board:\n",
    "    directions = {\n",
    "        \"right\": (0, 1),\n",
    "        \"down\": (1, 0)\n",
    "    }\n",
    "    \n",
    "    def __init__(self, n:int=10):\n",
    "        self.size = n\n",
    "        self.initial = 'u'\n",
    "        self.boat = 'o'\n",
    "        self.board = [[None for _ in range(self.size)] for _ in range(self.size)]\n",
    "    \n",
    "    def _letter_to_index(self, letter: str) -> int:\n",
    "        return string.ascii_lowercase.index(letter)\n",
    "    \n",
    "    def _loc_to_index(self, location: str) -> tuple:\n",
    "        letter, number = location\n",
    "        return self._letter_to_index(letter), int(number) - 1\n",
    "    \n",
    "    def _get(self, tup:tuple):\n",
    "        row, column = tup\n",
    "        return self.board[row][column]\n",
    "    \n",
    "    def _set(self, tup: tuple, value):\n",
    "        row, column = tup\n",
    "        self.board[row][column] = value\n",
    "        \n",
    "    def placeBoat(self, size: int, row: str, column: int, direction: str):\n",
    "        start = self._loc_to_index(f\"{row}{column}\")\n",
    "        d = self.directions[direction]\n",
    "        spots = [tup_sum(start, tup_mul(d, i)) for i in range(0, size)]\n",
    "        try:\n",
    "            if all(map(lambda x: self._get(x) is None, spots)):\n",
    "                list(map(lambda x: self._set(x, self.boat), spots))\n",
    "            else:\n",
    "                print(\"invalid placement: collides with another boat\")\n",
    "        except IndexError:\n",
    "            print(\"invalid placement: outside game bounds\")\n",
    "        \n",
    "    def __repr__(self):\n",
    "        display = [[n if n else \" \" for n in range(self.size + 1)]]\n",
    "        for i in range(self.size):\n",
    "            display.append([string.ascii_lowercase[i]] + self.board[i])\n",
    "        return \"\\n\".join(\" \".join(map(lambda x: str(x).rjust(3) if x else self.initial.rjust(3), row)) for row in display)\n",
    "    \n",
    "board = Board()\n",
    "board.placeBoat(5, 'c', 3, 'right')\n",
    "board.placeBoat(5, 'g', 8, 'right')\n",
    "board.placeBoat(3, 'g', 4, 'down')\n",
    "print(board)"
   ]
  },
  {
   "cell_type": "code",
   "execution_count": 3,
   "metadata": {
    "collapsed": false
   },
   "outputs": [
    {
     "data": {
      "text/plain": [
       "(1, 0, 2, 0)"
      ]
     },
     "execution_count": 3,
     "metadata": {},
     "output_type": "execute_result"
    }
   ],
   "source": [
    "(1,0) * 2\n",
    "(1,0) + (2,0)"
   ]
  },
  {
   "cell_type": "code",
   "execution_count": 10,
   "metadata": {
    "collapsed": false
   },
   "outputs": [
    {
     "data": {
      "text/plain": [
       "[(1, 2)]"
      ]
     },
     "execution_count": 10,
     "metadata": {},
     "output_type": "execute_result"
    }
   ],
   "source": [
    "list(zip((1,2), (2,)))\n",
    "    "
   ]
  },
  {
   "cell_type": "code",
   "execution_count": 63,
   "metadata": {
    "collapsed": false
   },
   "outputs": [
    {
     "data": {
      "text/plain": [
       "[(1, 1), (2, 1)]"
      ]
     },
     "execution_count": 63,
     "metadata": {},
     "output_type": "execute_result"
    }
   ],
   "source": [
    "def ret_x(x):\n",
    "    while True:\n",
    "        yield x\n",
    "\n",
    "lambda x: iter(x,1)\n",
    "\n",
    "list(zip((1,2), iter(lambda: 1, -1)))"
   ]
  },
  {
   "cell_type": "code",
   "execution_count": 36,
   "metadata": {
    "collapsed": false
   },
   "outputs": [],
   "source": [
    "from functools import reduce\n",
    "\n",
    "def product(*args):\n",
    "    \"\"\"Returns the product of a list of arguments\"\"\"\n",
    "    return reduce(lambda x, y: x * y, args, 1)\n",
    "    \n",
    "def tup_prod(tup1: tuple, tup2: tuple) -> tuple:\n",
    "    \"\"\"Multiplies to tuples together\"\"\"\n",
    "    return tuple(product(*x) for x in zip(tup1, tup2))\n",
    "\n",
    "def tup_mul(tup: tuple, n: int) -> tuple:\n",
    "    \"\"\"Multiplies a tuple with an int\"\"\"\n",
    "    return _m_prod(tup, iter(lambda: n, 1))"
   ]
  },
  {
   "cell_type": "code",
   "execution_count": 37,
   "metadata": {
    "collapsed": false
   },
   "outputs": [
    {
     "data": {
      "text/plain": [
       "(6, 6)"
      ]
     },
     "execution_count": 37,
     "metadata": {},
     "output_type": "execute_result"
    }
   ],
   "source": [
    "_m_prod((2,2), (3,3))"
   ]
  },
  {
   "cell_type": "code",
   "execution_count": 38,
   "metadata": {
    "collapsed": false
   },
   "outputs": [
    {
     "data": {
      "text/plain": [
       "(2, 0)"
      ]
     },
     "execution_count": 38,
     "metadata": {},
     "output_type": "execute_result"
    }
   ],
   "source": [
    "_m_mul((1,0), 2)"
   ]
  },
  {
   "cell_type": "code",
   "execution_count": 48,
   "metadata": {
    "collapsed": true
   },
   "outputs": [],
   "source": [
    "a =('1','2')"
   ]
  },
  {
   "cell_type": "code",
   "execution_count": 31,
   "metadata": {
    "collapsed": false
   },
   "outputs": [
    {
     "name": "stdout",
     "output_type": "stream",
     "text": [
      "1 2\n"
     ]
    }
   ],
   "source": [
    "print(*a)"
   ]
  },
  {
   "cell_type": "code",
   "execution_count": 42,
   "metadata": {
    "collapsed": false
   },
   "outputs": [
    {
     "ename": "TypeError",
     "evalue": "must be str, not int",
     "output_type": "error",
     "traceback": [
      "\u001b[0;31m---------------------------------------------------------------------------\u001b[0m",
      "\u001b[0;31mTypeError\u001b[0m                                 Traceback (most recent call last)",
      "\u001b[0;32m<ipython-input-42-ad2b220c7e96>\u001b[0m in \u001b[0;36m<module>\u001b[0;34m()\u001b[0m\n\u001b[0;32m----> 1\u001b[0;31m \u001b[0;34m'a'\u001b[0m \u001b[0;34m+\u001b[0m \u001b[0;36m1\u001b[0m\u001b[0;34m\u001b[0m\u001b[0m\n\u001b[0m",
      "\u001b[0;31mTypeError\u001b[0m: must be str, not int"
     ]
    }
   ],
   "source": [
    "'a' + 1\n"
   ]
  },
  {
   "cell_type": "code",
   "execution_count": 50,
   "metadata": {
    "collapsed": false
   },
   "outputs": [
    {
     "data": {
      "text/plain": [
       "3"
      ]
     },
     "execution_count": 50,
     "metadata": {},
     "output_type": "execute_result"
    }
   ],
   "source": [
    "sum((1,2))"
   ]
  },
  {
   "cell_type": "code",
   "execution_count": 83,
   "metadata": {
    "collapsed": false
   },
   "outputs": [
    {
     "name": "stdout",
     "output_type": "stream",
     "text": [
      "invalid placement: outside game bounds\n",
      "      1   2   3   4   5   6   7   8   9  10\n",
      "  a   u   u   u   u   u   u   u   u   u   u\n",
      "  b   u   u   u   u   u   u   u   u   u   u\n",
      "  c   u   u   o   o   o   o   o   u   u   u\n",
      "  d   u   u   u   u   u   u   u   u   u   u\n",
      "  e   u   u   u   u   u   u   u   u   u   u\n",
      "  f   u   u   u   u   u   u   u   u   u   u\n",
      "  g   u   u   u   o   u   u   u   u   u   u\n",
      "  h   u   u   u   o   u   u   u   u   u   u\n",
      "  i   u   u   u   o   u   u   u   u   u   u\n",
      "  j   u   u   u   u   u   u   u   u   u   u\n"
     ]
    }
   ],
   "source": [
    "\n",
    "class Point:\n",
    "    def __init__(self, x: int, y: int):\n",
    "        self.x = x\n",
    "        self.y = y\n",
    "    \n",
    "    def __add__(self, other):\n",
    "        if isinstance(other, Point):\n",
    "            return Point(self.x + other.x, self.y + other.y)\n",
    "        elif isinstance(other, tuple):\n",
    "            return Point(self.x + other[0], self.y + other[1])\n",
    "        else:\n",
    "            raise TypeError(\"Unsupported Type for addition {}\".type(other))\n",
    "    \n",
    "    def __mul__(self, other):\n",
    "        if isinstance(other, Point):\n",
    "            return Point(self.x * other.x, self.y * other.y)\n",
    "        elif isinstance(other, tuple):\n",
    "            return Point(self.x * other[0], self.y * other[1])\n",
    "        elif isinstance(other, int):\n",
    "            return Point(self.x * other, self.y * other)\n",
    "        else:\n",
    "            return TypeError(\"Unsupported Type of addition {}\".type(other))\n",
    "\n",
    "    def __repr__(self):\n",
    "        return \"Point<{0.x},{0.y}>\".format(self)\n",
    "    \n",
    "    def to_tuple(self):\n",
    "        return self.x, self.y\n",
    "    \n",
    "class Coordinate:\n",
    "    def __init__(self, row: str, column: int):\n",
    "        self.row = row\n",
    "        self.column = column\n",
    "    \n",
    "    def _letter_to_index(self, letter: str) -> int:\n",
    "        return string.ascii_lowercase.index(letter)\n",
    "    \n",
    "    def __repr__(self):\n",
    "        return \"{0.row}{0.column}\".format(self)\n",
    "    \n",
    "    def point(self):\n",
    "        return Point(self.column - 1, self._letter_to_index(self.row))\n",
    "\n",
    "class Board:\n",
    "    directions = {\n",
    "        \"right\": Point(1, 0),\n",
    "        \"down\": Point(0, 1)\n",
    "    }\n",
    "    \n",
    "    def __init__(self, n:int=10):\n",
    "        self.size = n\n",
    "        self.initial = 'u'\n",
    "        self.boat = 'o'\n",
    "        self.board = [[None for _ in range(self.size)] for _ in range(self.size)]\n",
    "\n",
    "    def _get(self, point: Point):\n",
    "        column, row = point.to_tuple()\n",
    "        return self.board[row][column]\n",
    "    \n",
    "    def _set(self, point: Point, value):\n",
    "        column, row = point.to_tuple()\n",
    "        self.board[row][column] = value\n",
    "        \n",
    "    def placeBoat(self, size: int, row: str, column: int, direction: str):\n",
    "        start = Coordinate(row, column).point()\n",
    "        d = self.directions[direction]\n",
    "        spots = [start + (d * i) for i in range(0, size)]\n",
    "        try:\n",
    "            if all(map(lambda x: self._get(x) is None, spots)):\n",
    "                list(map(lambda x: self._set(x, self.boat), spots))\n",
    "            else:\n",
    "                print(\"invalid placement: collides with another boat\")\n",
    "        except IndexError:\n",
    "            print(\"invalid placement: outside game bounds\")\n",
    "        \n",
    "    def __repr__(self):\n",
    "        display = [[n if n else \" \" for n in range(self.size + 1)]]\n",
    "        for i in range(self.size):\n",
    "            display.append([string.ascii_lowercase[i]] + self.board[i])\n",
    "        return \"\\n\".join(\" \".join(map(lambda x: str(x).rjust(3) if x else self.initial.rjust(3), row)) for row in display)\n",
    "    \n",
    "board = Board()\n",
    "board.placeBoat(5, 'c', 3, 'right')\n",
    "board.placeBoat(5, 'g', 8, 'right')\n",
    "board.placeBoat(3, 'g', 4, 'down')\n",
    "print(board)"
   ]
  },
  {
   "cell_type": "code",
   "execution_count": null,
   "metadata": {
    "collapsed": true
   },
   "outputs": [],
   "source": []
  }
 ],
 "metadata": {
  "kernelspec": {
   "display_name": "Python 3",
   "language": "python",
   "name": "python3"
  },
  "language_info": {
   "codemirror_mode": {
    "name": "ipython",
    "version": 3
   },
   "file_extension": ".py",
   "mimetype": "text/x-python",
   "name": "python",
   "nbconvert_exporter": "python",
   "pygments_lexer": "ipython3",
   "version": "3.6.0"
  }
 },
 "nbformat": 4,
 "nbformat_minor": 2
}
